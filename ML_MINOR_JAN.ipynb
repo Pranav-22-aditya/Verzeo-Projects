{
  "nbformat": 4,
  "nbformat_minor": 0,
  "metadata": {
    "colab": {
      "name": " ML-MINOR-JAN.ipynb",
      "provenance": [],
      "collapsed_sections": [],
      "mount_file_id": "1-Ks1aA3wmM4l6M9A37aDvFh25BTwsSIE",
      "authorship_tag": "ABX9TyM1a0u9JDfxzkJRx6XdABnI",
      "include_colab_link": true
    },
    "kernelspec": {
      "name": "python3",
      "display_name": "Python 3"
    },
    "language_info": {
      "name": "python"
    }
  },
  "cells": [
    {
      "cell_type": "markdown",
      "metadata": {
        "id": "view-in-github",
        "colab_type": "text"
      },
      "source": [
        "<a href=\"https://colab.research.google.com/github/Pranav-22-aditya/Verzeo-Projects/blob/main/ML_MINOR_JAN.ipynb\" target=\"_parent\"><img src=\"https://colab.research.google.com/assets/colab-badge.svg\" alt=\"Open In Colab\"/></a>"
      ]
    },
    {
      "cell_type": "code",
      "metadata": {
        "id": "2T_7ylvv_Ziu"
      },
      "source": [
        "import pandas as pd\n",
        "import numpy as np\n",
        "from sklearn import metrics\n",
        "from sklearn.metrics import confusion_matrix"
      ],
      "execution_count": null,
      "outputs": []
    },
    {
      "cell_type": "code",
      "metadata": {
        "id": "djDjJyQjARWL"
      },
      "source": [
        "df=pd.read_csv(\"/content/drive/MyDrive/Verzeo_python/Iris.csv\")"
      ],
      "execution_count": null,
      "outputs": []
    },
    {
      "cell_type": "code",
      "metadata": {
        "colab": {
          "base_uri": "https://localhost:8080/",
          "height": 419
        },
        "id": "eGcgIi0GBWIe",
        "outputId": "c7702b35-6452-426c-edb0-5010a47b6786"
      },
      "source": [
        "df\n"
      ],
      "execution_count": null,
      "outputs": [
        {
          "output_type": "execute_result",
          "data": {
            "text/html": [
              "<div>\n",
              "<style scoped>\n",
              "    .dataframe tbody tr th:only-of-type {\n",
              "        vertical-align: middle;\n",
              "    }\n",
              "\n",
              "    .dataframe tbody tr th {\n",
              "        vertical-align: top;\n",
              "    }\n",
              "\n",
              "    .dataframe thead th {\n",
              "        text-align: right;\n",
              "    }\n",
              "</style>\n",
              "<table border=\"1\" class=\"dataframe\">\n",
              "  <thead>\n",
              "    <tr style=\"text-align: right;\">\n",
              "      <th></th>\n",
              "      <th>Id</th>\n",
              "      <th>SepalLengthCm</th>\n",
              "      <th>SepalWidthCm</th>\n",
              "      <th>PetalLengthCm</th>\n",
              "      <th>PetalWidthCm</th>\n",
              "      <th>Species</th>\n",
              "    </tr>\n",
              "  </thead>\n",
              "  <tbody>\n",
              "    <tr>\n",
              "      <th>0</th>\n",
              "      <td>1</td>\n",
              "      <td>5.1</td>\n",
              "      <td>3.5</td>\n",
              "      <td>1.4</td>\n",
              "      <td>0.2</td>\n",
              "      <td>Iris-setosa</td>\n",
              "    </tr>\n",
              "    <tr>\n",
              "      <th>1</th>\n",
              "      <td>2</td>\n",
              "      <td>4.9</td>\n",
              "      <td>3.0</td>\n",
              "      <td>1.4</td>\n",
              "      <td>0.2</td>\n",
              "      <td>Iris-setosa</td>\n",
              "    </tr>\n",
              "    <tr>\n",
              "      <th>2</th>\n",
              "      <td>3</td>\n",
              "      <td>4.7</td>\n",
              "      <td>3.2</td>\n",
              "      <td>1.3</td>\n",
              "      <td>0.2</td>\n",
              "      <td>Iris-setosa</td>\n",
              "    </tr>\n",
              "    <tr>\n",
              "      <th>3</th>\n",
              "      <td>4</td>\n",
              "      <td>4.6</td>\n",
              "      <td>3.1</td>\n",
              "      <td>1.5</td>\n",
              "      <td>0.2</td>\n",
              "      <td>Iris-setosa</td>\n",
              "    </tr>\n",
              "    <tr>\n",
              "      <th>4</th>\n",
              "      <td>5</td>\n",
              "      <td>5.0</td>\n",
              "      <td>3.6</td>\n",
              "      <td>1.4</td>\n",
              "      <td>0.2</td>\n",
              "      <td>Iris-setosa</td>\n",
              "    </tr>\n",
              "    <tr>\n",
              "      <th>...</th>\n",
              "      <td>...</td>\n",
              "      <td>...</td>\n",
              "      <td>...</td>\n",
              "      <td>...</td>\n",
              "      <td>...</td>\n",
              "      <td>...</td>\n",
              "    </tr>\n",
              "    <tr>\n",
              "      <th>145</th>\n",
              "      <td>146</td>\n",
              "      <td>6.7</td>\n",
              "      <td>3.0</td>\n",
              "      <td>5.2</td>\n",
              "      <td>2.3</td>\n",
              "      <td>Iris-virginica</td>\n",
              "    </tr>\n",
              "    <tr>\n",
              "      <th>146</th>\n",
              "      <td>147</td>\n",
              "      <td>6.3</td>\n",
              "      <td>2.5</td>\n",
              "      <td>5.0</td>\n",
              "      <td>1.9</td>\n",
              "      <td>Iris-virginica</td>\n",
              "    </tr>\n",
              "    <tr>\n",
              "      <th>147</th>\n",
              "      <td>148</td>\n",
              "      <td>6.5</td>\n",
              "      <td>3.0</td>\n",
              "      <td>5.2</td>\n",
              "      <td>2.0</td>\n",
              "      <td>Iris-virginica</td>\n",
              "    </tr>\n",
              "    <tr>\n",
              "      <th>148</th>\n",
              "      <td>149</td>\n",
              "      <td>6.2</td>\n",
              "      <td>3.4</td>\n",
              "      <td>5.4</td>\n",
              "      <td>2.3</td>\n",
              "      <td>Iris-virginica</td>\n",
              "    </tr>\n",
              "    <tr>\n",
              "      <th>149</th>\n",
              "      <td>150</td>\n",
              "      <td>5.9</td>\n",
              "      <td>3.0</td>\n",
              "      <td>5.1</td>\n",
              "      <td>1.8</td>\n",
              "      <td>Iris-virginica</td>\n",
              "    </tr>\n",
              "  </tbody>\n",
              "</table>\n",
              "<p>150 rows × 6 columns</p>\n",
              "</div>"
            ],
            "text/plain": [
              "      Id  SepalLengthCm  ...  PetalWidthCm         Species\n",
              "0      1            5.1  ...           0.2     Iris-setosa\n",
              "1      2            4.9  ...           0.2     Iris-setosa\n",
              "2      3            4.7  ...           0.2     Iris-setosa\n",
              "3      4            4.6  ...           0.2     Iris-setosa\n",
              "4      5            5.0  ...           0.2     Iris-setosa\n",
              "..   ...            ...  ...           ...             ...\n",
              "145  146            6.7  ...           2.3  Iris-virginica\n",
              "146  147            6.3  ...           1.9  Iris-virginica\n",
              "147  148            6.5  ...           2.0  Iris-virginica\n",
              "148  149            6.2  ...           2.3  Iris-virginica\n",
              "149  150            5.9  ...           1.8  Iris-virginica\n",
              "\n",
              "[150 rows x 6 columns]"
            ]
          },
          "metadata": {
            "tags": []
          },
          "execution_count": 4
        }
      ]
    },
    {
      "cell_type": "markdown",
      "metadata": {
        "id": "NVNCYk-JBsc_"
      },
      "source": [
        "checking the data set "
      ]
    },
    {
      "cell_type": "code",
      "metadata": {
        "colab": {
          "base_uri": "https://localhost:8080/"
        },
        "id": "WyexEYPiBWdS",
        "outputId": "b468663e-3a00-4fcb-849c-e75603f31802"
      },
      "source": [
        "df.isnull().sum()\n"
      ],
      "execution_count": null,
      "outputs": [
        {
          "output_type": "execute_result",
          "data": {
            "text/plain": [
              "Id               0\n",
              "SepalLengthCm    0\n",
              "SepalWidthCm     0\n",
              "PetalLengthCm    0\n",
              "PetalWidthCm     0\n",
              "Species          0\n",
              "dtype: int64"
            ]
          },
          "metadata": {
            "tags": []
          },
          "execution_count": 6
        }
      ]
    },
    {
      "cell_type": "markdown",
      "metadata": {
        "id": "ycpJED6RBwIL"
      },
      "source": [
        "since no null value. thus we don't need to drop any row or column."
      ]
    },
    {
      "cell_type": "code",
      "metadata": {
        "id": "EWEtUYiSBrn-"
      },
      "source": [
        "from sklearn.preprocessing import LabelEncoder\n",
        "le = LabelEncoder()"
      ],
      "execution_count": null,
      "outputs": []
    },
    {
      "cell_type": "code",
      "metadata": {
        "id": "Q9SWWxltCht4"
      },
      "source": [
        "#df1=pd.get_dummies(df)\n",
        "#df1"
      ],
      "execution_count": null,
      "outputs": []
    },
    {
      "cell_type": "code",
      "metadata": {
        "id": "QX0tElcEFn_N"
      },
      "source": [
        "y = df.iloc[:,-1 ].values"
      ],
      "execution_count": null,
      "outputs": []
    },
    {
      "cell_type": "code",
      "metadata": {
        "colab": {
          "base_uri": "https://localhost:8080/"
        },
        "id": "vLcfpYl6FZzu",
        "outputId": "166c6a22-71e7-4ed3-e345-d2bf578cb6c0"
      },
      "source": [
        "y"
      ],
      "execution_count": null,
      "outputs": [
        {
          "output_type": "execute_result",
          "data": {
            "text/plain": [
              "array(['Iris-setosa', 'Iris-setosa', 'Iris-setosa', 'Iris-setosa',\n",
              "       'Iris-setosa', 'Iris-setosa', 'Iris-setosa', 'Iris-setosa',\n",
              "       'Iris-setosa', 'Iris-setosa', 'Iris-setosa', 'Iris-setosa',\n",
              "       'Iris-setosa', 'Iris-setosa', 'Iris-setosa', 'Iris-setosa',\n",
              "       'Iris-setosa', 'Iris-setosa', 'Iris-setosa', 'Iris-setosa',\n",
              "       'Iris-setosa', 'Iris-setosa', 'Iris-setosa', 'Iris-setosa',\n",
              "       'Iris-setosa', 'Iris-setosa', 'Iris-setosa', 'Iris-setosa',\n",
              "       'Iris-setosa', 'Iris-setosa', 'Iris-setosa', 'Iris-setosa',\n",
              "       'Iris-setosa', 'Iris-setosa', 'Iris-setosa', 'Iris-setosa',\n",
              "       'Iris-setosa', 'Iris-setosa', 'Iris-setosa', 'Iris-setosa',\n",
              "       'Iris-setosa', 'Iris-setosa', 'Iris-setosa', 'Iris-setosa',\n",
              "       'Iris-setosa', 'Iris-setosa', 'Iris-setosa', 'Iris-setosa',\n",
              "       'Iris-setosa', 'Iris-setosa', 'Iris-versicolor', 'Iris-versicolor',\n",
              "       'Iris-versicolor', 'Iris-versicolor', 'Iris-versicolor',\n",
              "       'Iris-versicolor', 'Iris-versicolor', 'Iris-versicolor',\n",
              "       'Iris-versicolor', 'Iris-versicolor', 'Iris-versicolor',\n",
              "       'Iris-versicolor', 'Iris-versicolor', 'Iris-versicolor',\n",
              "       'Iris-versicolor', 'Iris-versicolor', 'Iris-versicolor',\n",
              "       'Iris-versicolor', 'Iris-versicolor', 'Iris-versicolor',\n",
              "       'Iris-versicolor', 'Iris-versicolor', 'Iris-versicolor',\n",
              "       'Iris-versicolor', 'Iris-versicolor', 'Iris-versicolor',\n",
              "       'Iris-versicolor', 'Iris-versicolor', 'Iris-versicolor',\n",
              "       'Iris-versicolor', 'Iris-versicolor', 'Iris-versicolor',\n",
              "       'Iris-versicolor', 'Iris-versicolor', 'Iris-versicolor',\n",
              "       'Iris-versicolor', 'Iris-versicolor', 'Iris-versicolor',\n",
              "       'Iris-versicolor', 'Iris-versicolor', 'Iris-versicolor',\n",
              "       'Iris-versicolor', 'Iris-versicolor', 'Iris-versicolor',\n",
              "       'Iris-versicolor', 'Iris-versicolor', 'Iris-versicolor',\n",
              "       'Iris-versicolor', 'Iris-versicolor', 'Iris-versicolor',\n",
              "       'Iris-virginica', 'Iris-virginica', 'Iris-virginica',\n",
              "       'Iris-virginica', 'Iris-virginica', 'Iris-virginica',\n",
              "       'Iris-virginica', 'Iris-virginica', 'Iris-virginica',\n",
              "       'Iris-virginica', 'Iris-virginica', 'Iris-virginica',\n",
              "       'Iris-virginica', 'Iris-virginica', 'Iris-virginica',\n",
              "       'Iris-virginica', 'Iris-virginica', 'Iris-virginica',\n",
              "       'Iris-virginica', 'Iris-virginica', 'Iris-virginica',\n",
              "       'Iris-virginica', 'Iris-virginica', 'Iris-virginica',\n",
              "       'Iris-virginica', 'Iris-virginica', 'Iris-virginica',\n",
              "       'Iris-virginica', 'Iris-virginica', 'Iris-virginica',\n",
              "       'Iris-virginica', 'Iris-virginica', 'Iris-virginica',\n",
              "       'Iris-virginica', 'Iris-virginica', 'Iris-virginica',\n",
              "       'Iris-virginica', 'Iris-virginica', 'Iris-virginica',\n",
              "       'Iris-virginica', 'Iris-virginica', 'Iris-virginica',\n",
              "       'Iris-virginica', 'Iris-virginica', 'Iris-virginica',\n",
              "       'Iris-virginica', 'Iris-virginica', 'Iris-virginica',\n",
              "       'Iris-virginica', 'Iris-virginica'], dtype=object)"
            ]
          },
          "metadata": {
            "tags": []
          },
          "execution_count": 12
        }
      ]
    },
    {
      "cell_type": "code",
      "metadata": {
        "colab": {
          "base_uri": "https://localhost:8080/"
        },
        "id": "BPt9P2suFw8d",
        "outputId": "c8b19184-d532-47ed-848b-d3d232cff603"
      },
      "source": [
        "y = le.fit_transform(y)\n",
        "y"
      ],
      "execution_count": null,
      "outputs": [
        {
          "output_type": "execute_result",
          "data": {
            "text/plain": [
              "array([0, 0, 0, 0, 0, 0, 0, 0, 0, 0, 0, 0, 0, 0, 0, 0, 0, 0, 0, 0, 0, 0,\n",
              "       0, 0, 0, 0, 0, 0, 0, 0, 0, 0, 0, 0, 0, 0, 0, 0, 0, 0, 0, 0, 0, 0,\n",
              "       0, 0, 0, 0, 0, 0, 1, 1, 1, 1, 1, 1, 1, 1, 1, 1, 1, 1, 1, 1, 1, 1,\n",
              "       1, 1, 1, 1, 1, 1, 1, 1, 1, 1, 1, 1, 1, 1, 1, 1, 1, 1, 1, 1, 1, 1,\n",
              "       1, 1, 1, 1, 1, 1, 1, 1, 1, 1, 1, 1, 2, 2, 2, 2, 2, 2, 2, 2, 2, 2,\n",
              "       2, 2, 2, 2, 2, 2, 2, 2, 2, 2, 2, 2, 2, 2, 2, 2, 2, 2, 2, 2, 2, 2,\n",
              "       2, 2, 2, 2, 2, 2, 2, 2, 2, 2, 2, 2, 2, 2, 2, 2, 2, 2])"
            ]
          },
          "metadata": {
            "tags": []
          },
          "execution_count": 13
        }
      ]
    },
    {
      "cell_type": "code",
      "metadata": {
        "colab": {
          "base_uri": "https://localhost:8080/"
        },
        "id": "OyCraMTMF8Q4",
        "outputId": "4663c78f-80b8-48f5-bb51-0f5a1bc52e30"
      },
      "source": [
        "x = df.iloc[:, 1:5].values\n",
        "x"
      ],
      "execution_count": null,
      "outputs": [
        {
          "output_type": "execute_result",
          "data": {
            "text/plain": [
              "array([[5.1, 3.5, 1.4, 0.2],\n",
              "       [4.9, 3. , 1.4, 0.2],\n",
              "       [4.7, 3.2, 1.3, 0.2],\n",
              "       [4.6, 3.1, 1.5, 0.2],\n",
              "       [5. , 3.6, 1.4, 0.2],\n",
              "       [5.4, 3.9, 1.7, 0.4],\n",
              "       [4.6, 3.4, 1.4, 0.3],\n",
              "       [5. , 3.4, 1.5, 0.2],\n",
              "       [4.4, 2.9, 1.4, 0.2],\n",
              "       [4.9, 3.1, 1.5, 0.1],\n",
              "       [5.4, 3.7, 1.5, 0.2],\n",
              "       [4.8, 3.4, 1.6, 0.2],\n",
              "       [4.8, 3. , 1.4, 0.1],\n",
              "       [4.3, 3. , 1.1, 0.1],\n",
              "       [5.8, 4. , 1.2, 0.2],\n",
              "       [5.7, 4.4, 1.5, 0.4],\n",
              "       [5.4, 3.9, 1.3, 0.4],\n",
              "       [5.1, 3.5, 1.4, 0.3],\n",
              "       [5.7, 3.8, 1.7, 0.3],\n",
              "       [5.1, 3.8, 1.5, 0.3],\n",
              "       [5.4, 3.4, 1.7, 0.2],\n",
              "       [5.1, 3.7, 1.5, 0.4],\n",
              "       [4.6, 3.6, 1. , 0.2],\n",
              "       [5.1, 3.3, 1.7, 0.5],\n",
              "       [4.8, 3.4, 1.9, 0.2],\n",
              "       [5. , 3. , 1.6, 0.2],\n",
              "       [5. , 3.4, 1.6, 0.4],\n",
              "       [5.2, 3.5, 1.5, 0.2],\n",
              "       [5.2, 3.4, 1.4, 0.2],\n",
              "       [4.7, 3.2, 1.6, 0.2],\n",
              "       [4.8, 3.1, 1.6, 0.2],\n",
              "       [5.4, 3.4, 1.5, 0.4],\n",
              "       [5.2, 4.1, 1.5, 0.1],\n",
              "       [5.5, 4.2, 1.4, 0.2],\n",
              "       [4.9, 3.1, 1.5, 0.1],\n",
              "       [5. , 3.2, 1.2, 0.2],\n",
              "       [5.5, 3.5, 1.3, 0.2],\n",
              "       [4.9, 3.1, 1.5, 0.1],\n",
              "       [4.4, 3. , 1.3, 0.2],\n",
              "       [5.1, 3.4, 1.5, 0.2],\n",
              "       [5. , 3.5, 1.3, 0.3],\n",
              "       [4.5, 2.3, 1.3, 0.3],\n",
              "       [4.4, 3.2, 1.3, 0.2],\n",
              "       [5. , 3.5, 1.6, 0.6],\n",
              "       [5.1, 3.8, 1.9, 0.4],\n",
              "       [4.8, 3. , 1.4, 0.3],\n",
              "       [5.1, 3.8, 1.6, 0.2],\n",
              "       [4.6, 3.2, 1.4, 0.2],\n",
              "       [5.3, 3.7, 1.5, 0.2],\n",
              "       [5. , 3.3, 1.4, 0.2],\n",
              "       [7. , 3.2, 4.7, 1.4],\n",
              "       [6.4, 3.2, 4.5, 1.5],\n",
              "       [6.9, 3.1, 4.9, 1.5],\n",
              "       [5.5, 2.3, 4. , 1.3],\n",
              "       [6.5, 2.8, 4.6, 1.5],\n",
              "       [5.7, 2.8, 4.5, 1.3],\n",
              "       [6.3, 3.3, 4.7, 1.6],\n",
              "       [4.9, 2.4, 3.3, 1. ],\n",
              "       [6.6, 2.9, 4.6, 1.3],\n",
              "       [5.2, 2.7, 3.9, 1.4],\n",
              "       [5. , 2. , 3.5, 1. ],\n",
              "       [5.9, 3. , 4.2, 1.5],\n",
              "       [6. , 2.2, 4. , 1. ],\n",
              "       [6.1, 2.9, 4.7, 1.4],\n",
              "       [5.6, 2.9, 3.6, 1.3],\n",
              "       [6.7, 3.1, 4.4, 1.4],\n",
              "       [5.6, 3. , 4.5, 1.5],\n",
              "       [5.8, 2.7, 4.1, 1. ],\n",
              "       [6.2, 2.2, 4.5, 1.5],\n",
              "       [5.6, 2.5, 3.9, 1.1],\n",
              "       [5.9, 3.2, 4.8, 1.8],\n",
              "       [6.1, 2.8, 4. , 1.3],\n",
              "       [6.3, 2.5, 4.9, 1.5],\n",
              "       [6.1, 2.8, 4.7, 1.2],\n",
              "       [6.4, 2.9, 4.3, 1.3],\n",
              "       [6.6, 3. , 4.4, 1.4],\n",
              "       [6.8, 2.8, 4.8, 1.4],\n",
              "       [6.7, 3. , 5. , 1.7],\n",
              "       [6. , 2.9, 4.5, 1.5],\n",
              "       [5.7, 2.6, 3.5, 1. ],\n",
              "       [5.5, 2.4, 3.8, 1.1],\n",
              "       [5.5, 2.4, 3.7, 1. ],\n",
              "       [5.8, 2.7, 3.9, 1.2],\n",
              "       [6. , 2.7, 5.1, 1.6],\n",
              "       [5.4, 3. , 4.5, 1.5],\n",
              "       [6. , 3.4, 4.5, 1.6],\n",
              "       [6.7, 3.1, 4.7, 1.5],\n",
              "       [6.3, 2.3, 4.4, 1.3],\n",
              "       [5.6, 3. , 4.1, 1.3],\n",
              "       [5.5, 2.5, 4. , 1.3],\n",
              "       [5.5, 2.6, 4.4, 1.2],\n",
              "       [6.1, 3. , 4.6, 1.4],\n",
              "       [5.8, 2.6, 4. , 1.2],\n",
              "       [5. , 2.3, 3.3, 1. ],\n",
              "       [5.6, 2.7, 4.2, 1.3],\n",
              "       [5.7, 3. , 4.2, 1.2],\n",
              "       [5.7, 2.9, 4.2, 1.3],\n",
              "       [6.2, 2.9, 4.3, 1.3],\n",
              "       [5.1, 2.5, 3. , 1.1],\n",
              "       [5.7, 2.8, 4.1, 1.3],\n",
              "       [6.3, 3.3, 6. , 2.5],\n",
              "       [5.8, 2.7, 5.1, 1.9],\n",
              "       [7.1, 3. , 5.9, 2.1],\n",
              "       [6.3, 2.9, 5.6, 1.8],\n",
              "       [6.5, 3. , 5.8, 2.2],\n",
              "       [7.6, 3. , 6.6, 2.1],\n",
              "       [4.9, 2.5, 4.5, 1.7],\n",
              "       [7.3, 2.9, 6.3, 1.8],\n",
              "       [6.7, 2.5, 5.8, 1.8],\n",
              "       [7.2, 3.6, 6.1, 2.5],\n",
              "       [6.5, 3.2, 5.1, 2. ],\n",
              "       [6.4, 2.7, 5.3, 1.9],\n",
              "       [6.8, 3. , 5.5, 2.1],\n",
              "       [5.7, 2.5, 5. , 2. ],\n",
              "       [5.8, 2.8, 5.1, 2.4],\n",
              "       [6.4, 3.2, 5.3, 2.3],\n",
              "       [6.5, 3. , 5.5, 1.8],\n",
              "       [7.7, 3.8, 6.7, 2.2],\n",
              "       [7.7, 2.6, 6.9, 2.3],\n",
              "       [6. , 2.2, 5. , 1.5],\n",
              "       [6.9, 3.2, 5.7, 2.3],\n",
              "       [5.6, 2.8, 4.9, 2. ],\n",
              "       [7.7, 2.8, 6.7, 2. ],\n",
              "       [6.3, 2.7, 4.9, 1.8],\n",
              "       [6.7, 3.3, 5.7, 2.1],\n",
              "       [7.2, 3.2, 6. , 1.8],\n",
              "       [6.2, 2.8, 4.8, 1.8],\n",
              "       [6.1, 3. , 4.9, 1.8],\n",
              "       [6.4, 2.8, 5.6, 2.1],\n",
              "       [7.2, 3. , 5.8, 1.6],\n",
              "       [7.4, 2.8, 6.1, 1.9],\n",
              "       [7.9, 3.8, 6.4, 2. ],\n",
              "       [6.4, 2.8, 5.6, 2.2],\n",
              "       [6.3, 2.8, 5.1, 1.5],\n",
              "       [6.1, 2.6, 5.6, 1.4],\n",
              "       [7.7, 3. , 6.1, 2.3],\n",
              "       [6.3, 3.4, 5.6, 2.4],\n",
              "       [6.4, 3.1, 5.5, 1.8],\n",
              "       [6. , 3. , 4.8, 1.8],\n",
              "       [6.9, 3.1, 5.4, 2.1],\n",
              "       [6.7, 3.1, 5.6, 2.4],\n",
              "       [6.9, 3.1, 5.1, 2.3],\n",
              "       [5.8, 2.7, 5.1, 1.9],\n",
              "       [6.8, 3.2, 5.9, 2.3],\n",
              "       [6.7, 3.3, 5.7, 2.5],\n",
              "       [6.7, 3. , 5.2, 2.3],\n",
              "       [6.3, 2.5, 5. , 1.9],\n",
              "       [6.5, 3. , 5.2, 2. ],\n",
              "       [6.2, 3.4, 5.4, 2.3],\n",
              "       [5.9, 3. , 5.1, 1.8]])"
            ]
          },
          "metadata": {
            "tags": []
          },
          "execution_count": 15
        }
      ]
    },
    {
      "cell_type": "code",
      "metadata": {
        "id": "KXZocjhcGsUS"
      },
      "source": [
        "from sklearn.model_selection import train_test_split"
      ],
      "execution_count": null,
      "outputs": []
    },
    {
      "cell_type": "code",
      "metadata": {
        "id": "CKJ_Q-UIHEHb"
      },
      "source": [
        "x_train,x_test,y_train,y_test = train_test_split(x,y, test_size = 0.2, random_state=1, stratify = y)\n"
      ],
      "execution_count": null,
      "outputs": []
    },
    {
      "cell_type": "code",
      "metadata": {
        "colab": {
          "base_uri": "https://localhost:8080/"
        },
        "id": "6E6Z6Y6DXThF",
        "outputId": "092663d1-ab55-4ae9-fee9-e353accc3710"
      },
      "source": [
        "x_test"
      ],
      "execution_count": null,
      "outputs": [
        {
          "output_type": "execute_result",
          "data": {
            "text/plain": [
              "array([[7.3, 2.9, 6.3, 1.8],\n",
              "       [4.9, 3.1, 1.5, 0.1],\n",
              "       [5.1, 2.5, 3. , 1.1],\n",
              "       [4.8, 3.4, 1.6, 0.2],\n",
              "       [5. , 3.5, 1.6, 0.6],\n",
              "       [5.1, 3.5, 1.4, 0.2],\n",
              "       [6.2, 3.4, 5.4, 2.3],\n",
              "       [6.4, 2.7, 5.3, 1.9],\n",
              "       [5.6, 2.8, 4.9, 2. ],\n",
              "       [6.8, 2.8, 4.8, 1.4],\n",
              "       [5.4, 3.9, 1.3, 0.4],\n",
              "       [5.5, 2.3, 4. , 1.3],\n",
              "       [6.8, 3. , 5.5, 2.1],\n",
              "       [6. , 2.2, 4. , 1. ],\n",
              "       [5.7, 2.5, 5. , 2. ],\n",
              "       [5.7, 4.4, 1.5, 0.4],\n",
              "       [7.1, 3. , 5.9, 2.1],\n",
              "       [6.1, 2.8, 4. , 1.3],\n",
              "       [4.9, 2.4, 3.3, 1. ],\n",
              "       [6.1, 3. , 4.9, 1.8],\n",
              "       [6.4, 2.9, 4.3, 1.3],\n",
              "       [5.6, 3. , 4.5, 1.5],\n",
              "       [4.9, 3.1, 1.5, 0.1],\n",
              "       [4.4, 2.9, 1.4, 0.2],\n",
              "       [6.5, 3. , 5.2, 2. ],\n",
              "       [4.9, 2.5, 4.5, 1.7],\n",
              "       [5.4, 3.9, 1.7, 0.4],\n",
              "       [4.8, 3. , 1.4, 0.1],\n",
              "       [6.3, 3.3, 4.7, 1.6],\n",
              "       [6.5, 2.8, 4.6, 1.5]])"
            ]
          },
          "metadata": {
            "tags": []
          },
          "execution_count": 115
        }
      ]
    },
    {
      "cell_type": "code",
      "metadata": {
        "colab": {
          "base_uri": "https://localhost:8080/"
        },
        "id": "NqaITjTsGS4y",
        "outputId": "9ab00a5e-0b1b-4638-c507-89ece2252069"
      },
      "source": [
        "from sklearn.neighbors import KNeighborsClassifier\n",
        "classifier = KNeighborsClassifier(n_neighbors=4, metric='euclidean')\n",
        "classifier.fit(x_train,y_train)"
      ],
      "execution_count": null,
      "outputs": [
        {
          "output_type": "execute_result",
          "data": {
            "text/plain": [
              "KNeighborsClassifier(algorithm='auto', leaf_size=30, metric='euclidean',\n",
              "                     metric_params=None, n_jobs=None, n_neighbors=4, p=2,\n",
              "                     weights='uniform')"
            ]
          },
          "metadata": {
            "tags": []
          },
          "execution_count": 107
        }
      ]
    },
    {
      "cell_type": "code",
      "metadata": {
        "colab": {
          "base_uri": "https://localhost:8080/"
        },
        "id": "xOwjlF2tWqvN",
        "outputId": "87d1ef74-0be0-43bb-d64a-40a9f6ddddb6"
      },
      "source": [
        "y_test"
      ],
      "execution_count": null,
      "outputs": [
        {
          "output_type": "execute_result",
          "data": {
            "text/plain": [
              "array([2, 0, 1, 0, 0, 0, 2, 2, 2, 1, 0, 1, 2, 1, 2, 0, 2, 1, 1, 2, 1, 1,\n",
              "       0, 0, 2, 2, 0, 0, 1, 1])"
            ]
          },
          "metadata": {
            "tags": []
          },
          "execution_count": 108
        }
      ]
    },
    {
      "cell_type": "code",
      "metadata": {
        "id": "SePNPVeTHUIR"
      },
      "source": [
        "pred_y = classifier.predict(x_test)"
      ],
      "execution_count": null,
      "outputs": []
    },
    {
      "cell_type": "code",
      "metadata": {
        "colab": {
          "base_uri": "https://localhost:8080/"
        },
        "id": "yZNSCj4xGixk",
        "outputId": "70128275-9fd5-4a1c-f4b0-f87382de48a7"
      },
      "source": [
        "pred_y"
      ],
      "execution_count": null,
      "outputs": [
        {
          "output_type": "execute_result",
          "data": {
            "text/plain": [
              "array([2, 0, 1, 0, 0, 0, 2, 2, 2, 1, 0, 1, 2, 1, 2, 0, 2, 1, 1, 2, 1, 1,\n",
              "       0, 0, 2, 1, 0, 0, 1, 1])"
            ]
          },
          "metadata": {
            "tags": []
          },
          "execution_count": 110
        }
      ]
    },
    {
      "cell_type": "code",
      "metadata": {
        "id": "zFy5lsUkHrlP"
      },
      "source": [
        "from sklearn.metrics import confusion_matrix"
      ],
      "execution_count": null,
      "outputs": []
    },
    {
      "cell_type": "code",
      "metadata": {
        "id": "1zaF6sMiH0QX"
      },
      "source": [
        "cm = confusion_matrix(y_test, pred_y)"
      ],
      "execution_count": null,
      "outputs": []
    },
    {
      "cell_type": "code",
      "metadata": {
        "colab": {
          "base_uri": "https://localhost:8080/"
        },
        "id": "iY_G70kRH8Gp",
        "outputId": "7b024e23-7aa7-4026-9202-f10bae50cb95"
      },
      "source": [
        "cm"
      ],
      "execution_count": null,
      "outputs": [
        {
          "output_type": "execute_result",
          "data": {
            "text/plain": [
              "array([[10,  0,  0],\n",
              "       [ 0, 10,  0],\n",
              "       [ 0,  1,  9]])"
            ]
          },
          "metadata": {
            "tags": []
          },
          "execution_count": 113
        }
      ]
    },
    {
      "cell_type": "code",
      "metadata": {
        "colab": {
          "base_uri": "https://localhost:8080/"
        },
        "id": "Aqb0ppZJH_T6",
        "outputId": "6e2c07f0-f081-4c3b-d26e-6afd0ee0f58d"
      },
      "source": [
        "score = classifier.score(x_test, y_test)\n",
        "score"
      ],
      "execution_count": null,
      "outputs": [
        {
          "output_type": "execute_result",
          "data": {
            "text/plain": [
              "0.9666666666666667"
            ]
          },
          "metadata": {
            "tags": []
          },
          "execution_count": 114
        }
      ]
    },
    {
      "cell_type": "markdown",
      "metadata": {
        "id": "9et77AHDJTxX"
      },
      "source": [
        "thus the accuracy by knn method is 96.67%."
      ]
    },
    {
      "cell_type": "markdown",
      "metadata": {
        "id": "L2oepKq7TKjU"
      },
      "source": [
        "predicting some new data "
      ]
    },
    {
      "cell_type": "code",
      "metadata": {
        "colab": {
          "base_uri": "https://localhost:8080/"
        },
        "id": "du7BrxJDVFR-",
        "outputId": "9aa8679e-4275-4aab-cb10-6e6de39fc11f"
      },
      "source": [
        "new =classifier.predict([[  4.7,3.0\t,1.3,\t0.2 ]])\n",
        "new[0]"
      ],
      "execution_count": null,
      "outputs": [
        {
          "output_type": "execute_result",
          "data": {
            "text/plain": [
              "0"
            ]
          },
          "metadata": {
            "tags": []
          },
          "execution_count": 124
        }
      ]
    },
    {
      "cell_type": "code",
      "metadata": {
        "colab": {
          "base_uri": "https://localhost:8080/"
        },
        "id": "VBRv6tzRTG-I",
        "outputId": "04d52d69-66de-4243-ea47-9d63358e59ef"
      },
      "source": [
        "newx=new[0]\n",
        "if (newx== 0): \n",
        "  print(\"Iris-setosa\")\n",
        "elif (newx == 1):\n",
        "  print(\"Iris-versicolor\")  \n",
        "else :\n",
        "  print(\"Iris-virginica\")  "
      ],
      "execution_count": null,
      "outputs": [
        {
          "output_type": "stream",
          "text": [
            "Iris-setosa\n"
          ],
          "name": "stdout"
        }
      ]
    },
    {
      "cell_type": "code",
      "metadata": {
        "id": "YFKI4NZlJTXO"
      },
      "source": [
        "#now trying svm classifier"
      ],
      "execution_count": null,
      "outputs": []
    },
    {
      "cell_type": "code",
      "metadata": {
        "id": "GMYSb1ChJgVU"
      },
      "source": [
        "from sklearn.preprocessing import StandardScaler\n",
        "sc = StandardScaler()\n",
        "x_train = sc.fit_transform(x_train)\n",
        "x_test = sc.transform(x_test)"
      ],
      "execution_count": null,
      "outputs": []
    },
    {
      "cell_type": "markdown",
      "metadata": {
        "id": "ejduH_VIM6yh"
      },
      "source": [
        "in above step we did Feature Scaling."
      ]
    },
    {
      "cell_type": "code",
      "metadata": {
        "colab": {
          "base_uri": "https://localhost:8080/"
        },
        "id": "a5twC-zXMzAr",
        "outputId": "0f253015-a967-49cf-82aa-bd59bd1a18ce"
      },
      "source": [
        "print(x_test)"
      ],
      "execution_count": null,
      "outputs": [
        {
          "output_type": "stream",
          "text": [
            "[[ 1.70737111 -0.39101277  1.40726524  0.77483369]\n",
            " [-1.15647793  0.08777838 -1.28391928 -1.43279303]\n",
            " [-0.91782384 -1.34859505 -0.44292412 -0.13418908]\n",
            " [-1.27580497  0.80596509 -1.22785293 -1.30293264]\n",
            " [-1.03715089  1.04536066 -1.22785293 -0.78349105]\n",
            " [-0.91782384  1.04536066 -1.33998562 -1.30293264]\n",
            " [ 0.39477364  0.80596509  0.90266814  1.42413567]\n",
            " [ 0.63342772 -0.86980391  0.8466018   0.90469409]\n",
            " [-0.32118863 -0.63040834  0.62233642  1.03455449]\n",
            " [ 1.1107359  -0.63040834  0.56627007  0.25539211]\n",
            " [-0.55984271  2.00294294 -1.39605197 -1.04321185]\n",
            " [-0.44051567 -1.82738619  0.11773932  0.12553172]\n",
            " [ 1.1107359  -0.15161719  0.95873448  1.16441488]\n",
            " [ 0.15611955 -2.06678176  0.11773932 -0.26404947]\n",
            " [-0.20186158 -1.34859505  0.67840276  1.03455449]\n",
            " [-0.20186158  3.1999208  -1.28391928 -1.04321185]\n",
            " [ 1.46871703 -0.15161719  1.18299986  1.16441488]\n",
            " [ 0.27544659 -0.63040834  0.11773932  0.12553172]\n",
            " [-1.15647793 -1.58799062 -0.27472509 -0.26404947]\n",
            " [ 0.27544659 -0.15161719  0.62233642  0.77483369]\n",
            " [ 0.63342772 -0.39101277  0.28593835  0.12553172]\n",
            " [-0.32118863 -0.15161719  0.39807104  0.38525251]\n",
            " [-1.15647793  0.08777838 -1.28391928 -1.43279303]\n",
            " [-1.75311315 -0.39101277 -1.33998562 -1.30293264]\n",
            " [ 0.75275477 -0.15161719  0.79053545  1.03455449]\n",
            " [-1.15647793 -1.34859505  0.39807104  0.6449733 ]\n",
            " [-0.55984271  2.00294294 -1.17178659 -1.04321185]\n",
            " [-1.27580497 -0.15161719 -1.33998562 -1.43279303]\n",
            " [ 0.51410068  0.56656952  0.51020373  0.5151129 ]\n",
            " [ 0.75275477 -0.63040834  0.45413739  0.38525251]]\n"
          ],
          "name": "stdout"
        }
      ]
    },
    {
      "cell_type": "code",
      "metadata": {
        "colab": {
          "base_uri": "https://localhost:8080/"
        },
        "id": "W4bQ-WMMNKUq",
        "outputId": "59f3d0a5-c902-4188-c7ff-a907677ebdc8"
      },
      "source": [
        "print(x_train)"
      ],
      "execution_count": null,
      "outputs": [
        {
          "output_type": "stream",
          "text": [
            "[[-0.91782384  1.5241518  -1.28391928 -1.04321185]\n",
            " [-1.51445906  0.32717395 -1.33998562 -1.30293264]\n",
            " [ 1.23006294  0.08777838  0.73446911  1.42413567]\n",
            " [-0.44051567 -1.10919948  0.3420047  -0.00432868]\n",
            " [-0.32118863 -0.39101277 -0.10652605  0.12553172]\n",
            " [ 0.15611955  0.80596509  0.39807104  0.5151129 ]\n",
            " [ 0.51410068 -1.82738619  0.3420047   0.12553172]\n",
            " [ 0.15611955 -2.06678176  0.67840276  0.38525251]\n",
            " [ 0.51410068  0.80596509  1.01480083  1.55399607]\n",
            " [ 1.23006294  0.08777838  0.62233642  0.38525251]\n",
            " [ 0.99140885 -0.15161719  0.79053545  1.42413567]\n",
            " [-1.03715089  0.32717395 -1.45211831 -1.30293264]\n",
            " [-0.55984271 -0.15161719  0.39807104  0.38525251]\n",
            " [ 0.15611955 -0.86980391  0.73446911  0.5151129 ]\n",
            " [ 0.51410068 -0.39101277  1.01480083  0.77483369]\n",
            " [-1.27580497  0.80596509 -1.0596539  -1.30293264]\n",
            " [ 0.99140885 -1.34859505  1.12693352  0.77483369]\n",
            " [ 0.39477364 -2.06678176  0.39807104  0.38525251]\n",
            " [-0.32118863 -0.86980391  0.22987201  0.12553172]\n",
            " [-1.03715089  0.80596509 -1.28391928 -1.30293264]\n",
            " [-1.39513202  0.32717395 -1.39605197 -1.30293264]\n",
            " [ 0.51410068 -0.86980391  0.62233642  0.77483369]\n",
            " [ 1.1107359   0.32717395  1.18299986  1.42413567]\n",
            " [-0.20186158 -0.63040834  0.39807104  0.12553172]\n",
            " [-0.08253454 -0.86980391  0.73446911  0.90469409]\n",
            " [ 0.63342772 -0.63040834  1.01480083  1.29427528]\n",
            " [-1.75311315 -0.15161719 -1.39605197 -1.30293264]\n",
            " [-1.39513202  0.32717395 -1.22785293 -1.30293264]\n",
            " [ 0.99140885  0.08777838  1.01480083  1.55399607]\n",
            " [-0.91782384  0.80596509 -1.28391928 -1.30293264]\n",
            " [-0.44051567  2.72112966 -1.33998562 -1.30293264]\n",
            " [-0.55984271  0.80596509 -1.17178659 -1.30293264]\n",
            " [-1.15647793 -0.15161719 -1.33998562 -1.30293264]\n",
            " [ 0.75275477 -0.15161719  0.95873448  0.77483369]\n",
            " [-0.08253454  2.24233852 -1.45211831 -1.30293264]\n",
            " [-0.44051567 -1.58799062 -0.05045971 -0.26404947]\n",
            " [ 0.99140885  0.56656952  1.07086717  1.68385646]\n",
            " [ 0.03679251 -0.15161719  0.22987201  0.38525251]\n",
            " [ 0.51410068 -1.34859505  0.67840276  0.90469409]\n",
            " [ 2.18467929 -0.63040834  1.63153061  1.03455449]\n",
            " [ 0.51410068 -1.34859505  0.62233642  0.38525251]\n",
            " [ 0.15611955 -0.39101277  0.39807104  0.38525251]\n",
            " [ 0.51410068 -0.63040834  0.73446911  0.38525251]\n",
            " [ 2.18467929 -0.15161719  1.29513255  1.42413567]\n",
            " [ 0.39477364 -0.39101277  0.28593835  0.12553172]\n",
            " [ 0.99140885  0.08777838  0.3420047   0.25539211]\n",
            " [-0.08253454 -0.63040834  0.73446911  1.55399607]\n",
            " [-0.08253454 -0.86980391  0.06167298 -0.00432868]\n",
            " [-0.20186158 -0.63040834  0.17380567  0.12553172]\n",
            " [-0.91782384  1.76354737 -1.22785293 -1.30293264]\n",
            " [ 0.51410068  0.56656952  1.2390662   1.68385646]\n",
            " [-0.7984968   0.80596509 -1.33998562 -1.30293264]\n",
            " [ 0.75275477  0.32717395  0.73446911  1.03455449]\n",
            " [-0.91782384  1.76354737 -1.0596539  -1.04321185]\n",
            " [-1.51445906  1.28475623 -1.564251   -1.30293264]\n",
            " [ 0.27544659 -0.63040834  0.51020373 -0.00432868]\n",
            " [-1.15647793  0.08777838 -1.28391928 -1.43279303]\n",
            " [-0.32118863 -0.15161719  0.17380567  0.12553172]\n",
            " [ 1.82669816 -0.63040834  1.29513255  0.90469409]\n",
            " [-1.87244019 -0.15161719 -1.50818466 -1.43279303]\n",
            " [ 1.23006294  0.32717395  1.07086717  1.42413567]\n",
            " [-1.03715089  1.04536066 -1.39605197 -1.17307224]\n",
            " [-0.20186158  1.76354737 -1.17178659 -1.17307224]\n",
            " [ 0.27544659 -1.10919948  1.01480083  0.25539211]\n",
            " [ 0.15611955 -0.15161719  0.56627007  0.77483369]\n",
            " [-1.03715089 -0.15161719 -1.22785293 -1.30293264]\n",
            " [ 0.99140885  0.08777838  0.51020373  0.38525251]\n",
            " [-0.55984271  1.5241518  -1.28391928 -1.30293264]\n",
            " [-0.7984968   1.04536066 -1.28391928 -1.30293264]\n",
            " [ 0.63342772  0.32717395  0.39807104  0.38525251]\n",
            " [ 1.58804407 -0.15161719  1.12693352  0.5151129 ]\n",
            " [-0.7984968  -0.86980391  0.06167298  0.25539211]\n",
            " [ 0.87208181 -0.15161719  0.3420047   0.25539211]\n",
            " [-1.27580497  0.08777838 -1.22785293 -1.30293264]\n",
            " [-1.03715089  0.56656952 -1.33998562 -1.30293264]\n",
            " [ 0.03679251  0.32717395  0.56627007  0.77483369]\n",
            " [ 0.63342772  0.32717395  0.8466018   1.42413567]\n",
            " [-0.08253454 -1.10919948  0.11773932 -0.00432868]\n",
            " [-0.44051567 -1.34859505  0.11773932  0.12553172]\n",
            " [ 0.99140885  0.56656952  1.07086717  1.16441488]\n",
            " [-0.08253454 -0.86980391  0.17380567 -0.26404947]\n",
            " [ 0.75275477 -0.15161719  1.12693352  1.29427528]\n",
            " [-1.51445906  0.80596509 -1.33998562 -1.17307224]\n",
            " [ 0.87208181 -0.39101277  0.45413739  0.12553172]\n",
            " [ 0.63342772 -0.63040834  1.01480083  1.16441488]\n",
            " [ 0.27544659 -0.15161719  0.45413739  0.25539211]\n",
            " [-0.20186158 -0.15161719  0.22987201 -0.00432868]\n",
            " [-0.55984271  0.80596509 -1.28391928 -1.04321185]\n",
            " [-0.91782384  0.56656952 -1.17178659 -0.91335145]\n",
            " [ 0.03679251 -0.15161719  0.73446911  0.77483369]\n",
            " [-0.20186158 -1.10919948 -0.1625924  -0.26404947]\n",
            " [ 2.18467929  1.76354737  1.63153061  1.29427528]\n",
            " [ 1.34938998  0.32717395  0.51020373  0.25539211]\n",
            " [-0.67916976  1.5241518  -1.28391928 -1.30293264]\n",
            " [ 0.27544659 -0.39101277  0.51020373  0.25539211]\n",
            " [ 2.18467929 -1.10919948  1.7436633   1.42413567]\n",
            " [ 1.58804407  0.32717395  1.2390662   0.77483369]\n",
            " [-0.91782384  1.76354737 -1.28391928 -1.17307224]\n",
            " [-1.03715089  1.28475623 -1.33998562 -1.30293264]\n",
            " [ 0.39477364 -0.63040834  0.56627007  0.77483369]\n",
            " [ 1.23006294  0.08777838  0.90266814  1.16441488]\n",
            " [-0.91782384  1.04536066 -1.33998562 -1.17307224]\n",
            " [ 0.63342772  0.08777838  0.95873448  0.77483369]\n",
            " [-1.03715089 -2.54557291 -0.1625924  -0.26404947]\n",
            " [-0.32118863 -1.34859505  0.06167298 -0.13418908]\n",
            " [-0.44051567 -1.58799062  0.00560663 -0.13418908]\n",
            " [ 1.58804407  1.28475623  1.29513255  1.68385646]\n",
            " [-0.7984968   2.48173409 -1.28391928 -1.43279303]\n",
            " [ 2.06535224 -0.15161719  1.57546427  1.16441488]\n",
            " [ 0.99140885 -0.15161719  0.67840276  0.6449733 ]\n",
            " [-0.08253454 -0.86980391  0.73446911  0.90469409]\n",
            " [-0.44051567  1.04536066 -1.39605197 -1.30293264]\n",
            " [ 2.42333338  1.76354737  1.46333158  1.03455449]\n",
            " [-1.27580497 -0.15161719 -1.33998562 -1.17307224]\n",
            " [-0.20186158 -0.39101277  0.22987201  0.12553172]\n",
            " [-1.6337861  -1.82738619 -1.39605197 -1.17307224]\n",
            " [-1.03715089 -1.82738619 -0.27472509 -0.26404947]\n",
            " [-1.03715089  0.80596509 -1.22785293 -1.04321185]\n",
            " [-1.51445906  0.08777838 -1.28391928 -1.30293264]\n",
            " [-1.75311315  0.32717395 -1.39605197 -1.30293264]]\n"
          ],
          "name": "stdout"
        }
      ]
    },
    {
      "cell_type": "code",
      "metadata": {
        "id": "8QzBI83lNX12"
      },
      "source": [
        "#Training the SVM model on the Training set"
      ],
      "execution_count": null,
      "outputs": []
    },
    {
      "cell_type": "code",
      "metadata": {
        "colab": {
          "base_uri": "https://localhost:8080/"
        },
        "id": "6fhbFR0NNa4A",
        "outputId": "2fddcdcb-93d3-4481-9587-0ff6d8852a08"
      },
      "source": [
        "from sklearn.svm import SVC\n",
        "classifier = SVC(kernel = 'linear', random_state = 0)\n",
        "classifier.fit(x_train, y_train)"
      ],
      "execution_count": null,
      "outputs": [
        {
          "output_type": "execute_result",
          "data": {
            "text/plain": [
              "SVC(C=1.0, break_ties=False, cache_size=200, class_weight=None, coef0=0.0,\n",
              "    decision_function_shape='ovr', degree=3, gamma='scale', kernel='linear',\n",
              "    max_iter=-1, probability=False, random_state=0, shrinking=True, tol=0.001,\n",
              "    verbose=False)"
            ]
          },
          "metadata": {
            "tags": []
          },
          "execution_count": 63
        }
      ]
    },
    {
      "cell_type": "code",
      "metadata": {
        "colab": {
          "base_uri": "https://localhost:8080/"
        },
        "id": "z835SjljNmIY",
        "outputId": "9a369662-ff4d-4bf9-df05-17068eb5ab7d"
      },
      "source": [
        "x_train"
      ],
      "execution_count": null,
      "outputs": [
        {
          "output_type": "execute_result",
          "data": {
            "text/plain": [
              "array([[-0.91782384,  1.5241518 , -1.28391928, -1.04321185],\n",
              "       [-1.51445906,  0.32717395, -1.33998562, -1.30293264],\n",
              "       [ 1.23006294,  0.08777838,  0.73446911,  1.42413567],\n",
              "       [-0.44051567, -1.10919948,  0.3420047 , -0.00432868],\n",
              "       [-0.32118863, -0.39101277, -0.10652605,  0.12553172],\n",
              "       [ 0.15611955,  0.80596509,  0.39807104,  0.5151129 ],\n",
              "       [ 0.51410068, -1.82738619,  0.3420047 ,  0.12553172],\n",
              "       [ 0.15611955, -2.06678176,  0.67840276,  0.38525251],\n",
              "       [ 0.51410068,  0.80596509,  1.01480083,  1.55399607],\n",
              "       [ 1.23006294,  0.08777838,  0.62233642,  0.38525251],\n",
              "       [ 0.99140885, -0.15161719,  0.79053545,  1.42413567],\n",
              "       [-1.03715089,  0.32717395, -1.45211831, -1.30293264],\n",
              "       [-0.55984271, -0.15161719,  0.39807104,  0.38525251],\n",
              "       [ 0.15611955, -0.86980391,  0.73446911,  0.5151129 ],\n",
              "       [ 0.51410068, -0.39101277,  1.01480083,  0.77483369],\n",
              "       [-1.27580497,  0.80596509, -1.0596539 , -1.30293264],\n",
              "       [ 0.99140885, -1.34859505,  1.12693352,  0.77483369],\n",
              "       [ 0.39477364, -2.06678176,  0.39807104,  0.38525251],\n",
              "       [-0.32118863, -0.86980391,  0.22987201,  0.12553172],\n",
              "       [-1.03715089,  0.80596509, -1.28391928, -1.30293264],\n",
              "       [-1.39513202,  0.32717395, -1.39605197, -1.30293264],\n",
              "       [ 0.51410068, -0.86980391,  0.62233642,  0.77483369],\n",
              "       [ 1.1107359 ,  0.32717395,  1.18299986,  1.42413567],\n",
              "       [-0.20186158, -0.63040834,  0.39807104,  0.12553172],\n",
              "       [-0.08253454, -0.86980391,  0.73446911,  0.90469409],\n",
              "       [ 0.63342772, -0.63040834,  1.01480083,  1.29427528],\n",
              "       [-1.75311315, -0.15161719, -1.39605197, -1.30293264],\n",
              "       [-1.39513202,  0.32717395, -1.22785293, -1.30293264],\n",
              "       [ 0.99140885,  0.08777838,  1.01480083,  1.55399607],\n",
              "       [-0.91782384,  0.80596509, -1.28391928, -1.30293264],\n",
              "       [-0.44051567,  2.72112966, -1.33998562, -1.30293264],\n",
              "       [-0.55984271,  0.80596509, -1.17178659, -1.30293264],\n",
              "       [-1.15647793, -0.15161719, -1.33998562, -1.30293264],\n",
              "       [ 0.75275477, -0.15161719,  0.95873448,  0.77483369],\n",
              "       [-0.08253454,  2.24233852, -1.45211831, -1.30293264],\n",
              "       [-0.44051567, -1.58799062, -0.05045971, -0.26404947],\n",
              "       [ 0.99140885,  0.56656952,  1.07086717,  1.68385646],\n",
              "       [ 0.03679251, -0.15161719,  0.22987201,  0.38525251],\n",
              "       [ 0.51410068, -1.34859505,  0.67840276,  0.90469409],\n",
              "       [ 2.18467929, -0.63040834,  1.63153061,  1.03455449],\n",
              "       [ 0.51410068, -1.34859505,  0.62233642,  0.38525251],\n",
              "       [ 0.15611955, -0.39101277,  0.39807104,  0.38525251],\n",
              "       [ 0.51410068, -0.63040834,  0.73446911,  0.38525251],\n",
              "       [ 2.18467929, -0.15161719,  1.29513255,  1.42413567],\n",
              "       [ 0.39477364, -0.39101277,  0.28593835,  0.12553172],\n",
              "       [ 0.99140885,  0.08777838,  0.3420047 ,  0.25539211],\n",
              "       [-0.08253454, -0.63040834,  0.73446911,  1.55399607],\n",
              "       [-0.08253454, -0.86980391,  0.06167298, -0.00432868],\n",
              "       [-0.20186158, -0.63040834,  0.17380567,  0.12553172],\n",
              "       [-0.91782384,  1.76354737, -1.22785293, -1.30293264],\n",
              "       [ 0.51410068,  0.56656952,  1.2390662 ,  1.68385646],\n",
              "       [-0.7984968 ,  0.80596509, -1.33998562, -1.30293264],\n",
              "       [ 0.75275477,  0.32717395,  0.73446911,  1.03455449],\n",
              "       [-0.91782384,  1.76354737, -1.0596539 , -1.04321185],\n",
              "       [-1.51445906,  1.28475623, -1.564251  , -1.30293264],\n",
              "       [ 0.27544659, -0.63040834,  0.51020373, -0.00432868],\n",
              "       [-1.15647793,  0.08777838, -1.28391928, -1.43279303],\n",
              "       [-0.32118863, -0.15161719,  0.17380567,  0.12553172],\n",
              "       [ 1.82669816, -0.63040834,  1.29513255,  0.90469409],\n",
              "       [-1.87244019, -0.15161719, -1.50818466, -1.43279303],\n",
              "       [ 1.23006294,  0.32717395,  1.07086717,  1.42413567],\n",
              "       [-1.03715089,  1.04536066, -1.39605197, -1.17307224],\n",
              "       [-0.20186158,  1.76354737, -1.17178659, -1.17307224],\n",
              "       [ 0.27544659, -1.10919948,  1.01480083,  0.25539211],\n",
              "       [ 0.15611955, -0.15161719,  0.56627007,  0.77483369],\n",
              "       [-1.03715089, -0.15161719, -1.22785293, -1.30293264],\n",
              "       [ 0.99140885,  0.08777838,  0.51020373,  0.38525251],\n",
              "       [-0.55984271,  1.5241518 , -1.28391928, -1.30293264],\n",
              "       [-0.7984968 ,  1.04536066, -1.28391928, -1.30293264],\n",
              "       [ 0.63342772,  0.32717395,  0.39807104,  0.38525251],\n",
              "       [ 1.58804407, -0.15161719,  1.12693352,  0.5151129 ],\n",
              "       [-0.7984968 , -0.86980391,  0.06167298,  0.25539211],\n",
              "       [ 0.87208181, -0.15161719,  0.3420047 ,  0.25539211],\n",
              "       [-1.27580497,  0.08777838, -1.22785293, -1.30293264],\n",
              "       [-1.03715089,  0.56656952, -1.33998562, -1.30293264],\n",
              "       [ 0.03679251,  0.32717395,  0.56627007,  0.77483369],\n",
              "       [ 0.63342772,  0.32717395,  0.8466018 ,  1.42413567],\n",
              "       [-0.08253454, -1.10919948,  0.11773932, -0.00432868],\n",
              "       [-0.44051567, -1.34859505,  0.11773932,  0.12553172],\n",
              "       [ 0.99140885,  0.56656952,  1.07086717,  1.16441488],\n",
              "       [-0.08253454, -0.86980391,  0.17380567, -0.26404947],\n",
              "       [ 0.75275477, -0.15161719,  1.12693352,  1.29427528],\n",
              "       [-1.51445906,  0.80596509, -1.33998562, -1.17307224],\n",
              "       [ 0.87208181, -0.39101277,  0.45413739,  0.12553172],\n",
              "       [ 0.63342772, -0.63040834,  1.01480083,  1.16441488],\n",
              "       [ 0.27544659, -0.15161719,  0.45413739,  0.25539211],\n",
              "       [-0.20186158, -0.15161719,  0.22987201, -0.00432868],\n",
              "       [-0.55984271,  0.80596509, -1.28391928, -1.04321185],\n",
              "       [-0.91782384,  0.56656952, -1.17178659, -0.91335145],\n",
              "       [ 0.03679251, -0.15161719,  0.73446911,  0.77483369],\n",
              "       [-0.20186158, -1.10919948, -0.1625924 , -0.26404947],\n",
              "       [ 2.18467929,  1.76354737,  1.63153061,  1.29427528],\n",
              "       [ 1.34938998,  0.32717395,  0.51020373,  0.25539211],\n",
              "       [-0.67916976,  1.5241518 , -1.28391928, -1.30293264],\n",
              "       [ 0.27544659, -0.39101277,  0.51020373,  0.25539211],\n",
              "       [ 2.18467929, -1.10919948,  1.7436633 ,  1.42413567],\n",
              "       [ 1.58804407,  0.32717395,  1.2390662 ,  0.77483369],\n",
              "       [-0.91782384,  1.76354737, -1.28391928, -1.17307224],\n",
              "       [-1.03715089,  1.28475623, -1.33998562, -1.30293264],\n",
              "       [ 0.39477364, -0.63040834,  0.56627007,  0.77483369],\n",
              "       [ 1.23006294,  0.08777838,  0.90266814,  1.16441488],\n",
              "       [-0.91782384,  1.04536066, -1.33998562, -1.17307224],\n",
              "       [ 0.63342772,  0.08777838,  0.95873448,  0.77483369],\n",
              "       [-1.03715089, -2.54557291, -0.1625924 , -0.26404947],\n",
              "       [-0.32118863, -1.34859505,  0.06167298, -0.13418908],\n",
              "       [-0.44051567, -1.58799062,  0.00560663, -0.13418908],\n",
              "       [ 1.58804407,  1.28475623,  1.29513255,  1.68385646],\n",
              "       [-0.7984968 ,  2.48173409, -1.28391928, -1.43279303],\n",
              "       [ 2.06535224, -0.15161719,  1.57546427,  1.16441488],\n",
              "       [ 0.99140885, -0.15161719,  0.67840276,  0.6449733 ],\n",
              "       [-0.08253454, -0.86980391,  0.73446911,  0.90469409],\n",
              "       [-0.44051567,  1.04536066, -1.39605197, -1.30293264],\n",
              "       [ 2.42333338,  1.76354737,  1.46333158,  1.03455449],\n",
              "       [-1.27580497, -0.15161719, -1.33998562, -1.17307224],\n",
              "       [-0.20186158, -0.39101277,  0.22987201,  0.12553172],\n",
              "       [-1.6337861 , -1.82738619, -1.39605197, -1.17307224],\n",
              "       [-1.03715089, -1.82738619, -0.27472509, -0.26404947],\n",
              "       [-1.03715089,  0.80596509, -1.22785293, -1.04321185],\n",
              "       [-1.51445906,  0.08777838, -1.28391928, -1.30293264],\n",
              "       [-1.75311315,  0.32717395, -1.39605197, -1.30293264]])"
            ]
          },
          "metadata": {
            "tags": []
          },
          "execution_count": 64
        }
      ]
    },
    {
      "cell_type": "code",
      "metadata": {
        "colab": {
          "base_uri": "https://localhost:8080/"
        },
        "id": "fDNiyWjQOyVk",
        "outputId": "b27ab3a1-282a-4749-9ac9-7912a85fdcad"
      },
      "source": [
        "x_test"
      ],
      "execution_count": null,
      "outputs": [
        {
          "output_type": "execute_result",
          "data": {
            "text/plain": [
              "array([[ 1.70737111, -0.39101277,  1.40726524,  0.77483369],\n",
              "       [-1.15647793,  0.08777838, -1.28391928, -1.43279303],\n",
              "       [-0.91782384, -1.34859505, -0.44292412, -0.13418908],\n",
              "       [-1.27580497,  0.80596509, -1.22785293, -1.30293264],\n",
              "       [-1.03715089,  1.04536066, -1.22785293, -0.78349105],\n",
              "       [-0.91782384,  1.04536066, -1.33998562, -1.30293264],\n",
              "       [ 0.39477364,  0.80596509,  0.90266814,  1.42413567],\n",
              "       [ 0.63342772, -0.86980391,  0.8466018 ,  0.90469409],\n",
              "       [-0.32118863, -0.63040834,  0.62233642,  1.03455449],\n",
              "       [ 1.1107359 , -0.63040834,  0.56627007,  0.25539211],\n",
              "       [-0.55984271,  2.00294294, -1.39605197, -1.04321185],\n",
              "       [-0.44051567, -1.82738619,  0.11773932,  0.12553172],\n",
              "       [ 1.1107359 , -0.15161719,  0.95873448,  1.16441488],\n",
              "       [ 0.15611955, -2.06678176,  0.11773932, -0.26404947],\n",
              "       [-0.20186158, -1.34859505,  0.67840276,  1.03455449],\n",
              "       [-0.20186158,  3.1999208 , -1.28391928, -1.04321185],\n",
              "       [ 1.46871703, -0.15161719,  1.18299986,  1.16441488],\n",
              "       [ 0.27544659, -0.63040834,  0.11773932,  0.12553172],\n",
              "       [-1.15647793, -1.58799062, -0.27472509, -0.26404947],\n",
              "       [ 0.27544659, -0.15161719,  0.62233642,  0.77483369],\n",
              "       [ 0.63342772, -0.39101277,  0.28593835,  0.12553172],\n",
              "       [-0.32118863, -0.15161719,  0.39807104,  0.38525251],\n",
              "       [-1.15647793,  0.08777838, -1.28391928, -1.43279303],\n",
              "       [-1.75311315, -0.39101277, -1.33998562, -1.30293264],\n",
              "       [ 0.75275477, -0.15161719,  0.79053545,  1.03455449],\n",
              "       [-1.15647793, -1.34859505,  0.39807104,  0.6449733 ],\n",
              "       [-0.55984271,  2.00294294, -1.17178659, -1.04321185],\n",
              "       [-1.27580497, -0.15161719, -1.33998562, -1.43279303],\n",
              "       [ 0.51410068,  0.56656952,  0.51020373,  0.5151129 ],\n",
              "       [ 0.75275477, -0.63040834,  0.45413739,  0.38525251]])"
            ]
          },
          "metadata": {
            "tags": []
          },
          "execution_count": 65
        }
      ]
    },
    {
      "cell_type": "code",
      "metadata": {
        "id": "tZ8lwieXQAe3"
      },
      "source": [
        "#train the model with svm"
      ],
      "execution_count": null,
      "outputs": []
    },
    {
      "cell_type": "code",
      "metadata": {
        "colab": {
          "base_uri": "https://localhost:8080/"
        },
        "id": "j03DKDaaQJHp",
        "outputId": "07ccaf8b-2957-4138-838f-f9b7bfc3a6fd"
      },
      "source": [
        "from sklearn.svm import SVC\n",
        "classifier = SVC(kernel = 'linear', random_state = 0)\n",
        "classifier.fit(x_train, y_train)"
      ],
      "execution_count": null,
      "outputs": [
        {
          "output_type": "execute_result",
          "data": {
            "text/plain": [
              "SVC(C=1.0, break_ties=False, cache_size=200, class_weight=None, coef0=0.0,\n",
              "    decision_function_shape='ovr', degree=3, gamma='scale', kernel='linear',\n",
              "    max_iter=-1, probability=False, random_state=0, shrinking=True, tol=0.001,\n",
              "    verbose=False)"
            ]
          },
          "metadata": {
            "tags": []
          },
          "execution_count": 66
        }
      ]
    },
    {
      "cell_type": "code",
      "metadata": {
        "id": "992RtInFQgPQ"
      },
      "source": [
        "y_pred = classifier.predict(x_test)"
      ],
      "execution_count": null,
      "outputs": []
    },
    {
      "cell_type": "code",
      "metadata": {
        "colab": {
          "base_uri": "https://localhost:8080/"
        },
        "id": "WCre0uRWQMo7",
        "outputId": "e1a96621-7bd2-414f-f0f7-b67cd0520a1b"
      },
      "source": [
        "from sklearn.metrics import confusion_matrix, accuracy_score\n",
        "cm = confusion_matrix(y_test, y_pred)\n",
        "print(cm)\n",
        "accuracy_score(y_test, y_pred)"
      ],
      "execution_count": null,
      "outputs": [
        {
          "output_type": "stream",
          "text": [
            "[[10  0  0]\n",
            " [ 0 10  0]\n",
            " [ 0  1  9]]\n"
          ],
          "name": "stdout"
        },
        {
          "output_type": "execute_result",
          "data": {
            "text/plain": [
              "0.9666666666666667"
            ]
          },
          "metadata": {
            "tags": []
          },
          "execution_count": 71
        }
      ]
    },
    {
      "cell_type": "markdown",
      "metadata": {
        "id": "1hQCfCiTSILv"
      },
      "source": [
        "the accuracy with svm is also found to be 96.67%."
      ]
    },
    {
      "cell_type": "code",
      "metadata": {
        "id": "hAr6GHOOSHUx"
      },
      "source": [
        ""
      ],
      "execution_count": null,
      "outputs": []
    }
  ]
}